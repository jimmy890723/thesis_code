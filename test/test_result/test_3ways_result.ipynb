{
 "cells": [
  {
   "cell_type": "code",
   "execution_count": 1,
   "id": "d04b0687",
   "metadata": {},
   "outputs": [],
   "source": [
    "import MBTI_prediction_by_3ways_jp"
   ]
  },
  {
   "cell_type": "code",
   "execution_count": 2,
   "id": "eb8bfed0",
   "metadata": {},
   "outputs": [],
   "source": [
    "import pandas as pd\n",
    "import numpy as np\n",
    "import torch\n",
    "import torch.nn as nn\n",
    "import torch.optim as optim\n",
    "from torch.nn.utils.rnn import pad_sequence\n",
    "from sklearn.model_selection import train_test_split\n",
    "import torch.nn.functional as F"
   ]
  },
  {
   "cell_type": "code",
   "execution_count": 3,
   "id": "6d8bbcab",
   "metadata": {},
   "outputs": [
    {
     "data": {
      "text/html": [
       "<div>\n",
       "<style scoped>\n",
       "    .dataframe tbody tr th:only-of-type {\n",
       "        vertical-align: middle;\n",
       "    }\n",
       "\n",
       "    .dataframe tbody tr th {\n",
       "        vertical-align: top;\n",
       "    }\n",
       "\n",
       "    .dataframe thead th {\n",
       "        text-align: right;\n",
       "    }\n",
       "</style>\n",
       "<table border=\"1\" class=\"dataframe\">\n",
       "  <thead>\n",
       "    <tr style=\"text-align: right;\">\n",
       "      <th></th>\n",
       "      <th>type</th>\n",
       "      <th>posts</th>\n",
       "    </tr>\n",
       "  </thead>\n",
       "  <tbody>\n",
       "    <tr>\n",
       "      <th>0</th>\n",
       "      <td>INFJ</td>\n",
       "      <td>['INFP', 'INFP', 'INFJ', 'ENFP', 'ISTP', 'INTP...</td>\n",
       "    </tr>\n",
       "    <tr>\n",
       "      <th>1</th>\n",
       "      <td>ENTP</td>\n",
       "      <td>['INTJ', 'INTP', 'ENFP', 'INTJ', 'INTP', 'INTP...</td>\n",
       "    </tr>\n",
       "    <tr>\n",
       "      <th>2</th>\n",
       "      <td>INTP</td>\n",
       "      <td>['INTJ', 'INFP', 'INFP', 'INTP', 'INTP', 'INTJ...</td>\n",
       "    </tr>\n",
       "    <tr>\n",
       "      <th>3</th>\n",
       "      <td>INTJ</td>\n",
       "      <td>['INTJ', 'ISFJ', 'INFP', 'INTP', 'INTP', 'INTP...</td>\n",
       "    </tr>\n",
       "    <tr>\n",
       "      <th>4</th>\n",
       "      <td>ENTJ</td>\n",
       "      <td>['ENTJ', 'INTP', 'ENFP', 'INTP', 'ENTJ', 'INTJ...</td>\n",
       "    </tr>\n",
       "  </tbody>\n",
       "</table>\n",
       "</div>"
      ],
      "text/plain": [
       "   type                                              posts\n",
       "0  INFJ  ['INFP', 'INFP', 'INFJ', 'ENFP', 'ISTP', 'INTP...\n",
       "1  ENTP  ['INTJ', 'INTP', 'ENFP', 'INTJ', 'INTP', 'INTP...\n",
       "2  INTP  ['INTJ', 'INFP', 'INFP', 'INTP', 'INTP', 'INTJ...\n",
       "3  INTJ  ['INTJ', 'ISFJ', 'INFP', 'INTP', 'INTP', 'INTP...\n",
       "4  ENTJ  ['ENTJ', 'INTP', 'ENFP', 'INTP', 'ENTJ', 'INTJ..."
      ]
     },
     "execution_count": 3,
     "metadata": {},
     "output_type": "execute_result"
    }
   ],
   "source": [
    "df = pd.read_csv('C:/Users/JenMing/Desktop/MBTI/LSTM/mbti_to_LSTM_DF.csv')\n",
    "df.head()"
   ]
  },
  {
   "cell_type": "code",
   "execution_count": 4,
   "id": "296b969a",
   "metadata": {},
   "outputs": [],
   "source": [
    "# 資料集切分為訓練集和驗證集\n",
    "train_dialogues, val_dialogues, train_target, val_target = train_test_split(df['posts'], df['type'], test_size=0.1, random_state=45)"
   ]
  },
  {
   "cell_type": "code",
   "execution_count": 5,
   "id": "0dd42985",
   "metadata": {},
   "outputs": [],
   "source": [
    "#資料集(驗證)重新排序(由0開始)\n",
    "val_df = pd.DataFrame({'posts': val_dialogues, 'type': val_target})\n",
    "val_df.reset_index(drop=True, inplace=True)"
   ]
  },
  {
   "cell_type": "code",
   "execution_count": 6,
   "id": "9205e728",
   "metadata": {},
   "outputs": [],
   "source": [
    "#再把排完之後的結果存回變數\n",
    "val_dialogues = val_df['posts']\n",
    "val_target = val_df['type']"
   ]
  },
  {
   "cell_type": "code",
   "execution_count": 7,
   "id": "25716efc",
   "metadata": {},
   "outputs": [
    {
     "name": "stdout",
     "output_type": "stream",
     "text": [
      "Accuracy: 43.6636%\n",
      "\n"
     ]
    }
   ],
   "source": [
    "pred_list = []\n",
    "counter = 0\n",
    "dimension_counts = {'E/I': 0,\n",
    "                    'S/N': 0,\n",
    "                    'T/F': 0,\n",
    "                    'J/P': 0}\n",
    "for index, one_list in enumerate(val_dialogues):\n",
    "    one_list = eval(one_list)\n",
    "    \n",
    "    result = MBTI_prediction_by_3ways_jp.run(one_list)\n",
    "    pred_list.append(result)\n",
    "    \n",
    "    if result == val_target[index]:\n",
    "        counter += 1\n",
    "\n",
    "    for n in range(4):\n",
    "        if n == 0:\n",
    "            if result[n] == val_target.iloc[index][n]:\n",
    "                dimension_counts['E/I'] += 1\n",
    "        elif n == 1:\n",
    "            if result[n] == val_target.iloc[index][n]:\n",
    "                dimension_counts['S/N'] += 1\n",
    "        elif n == 2:\n",
    "            if result[n] == val_target.iloc[index][n]:\n",
    "                dimension_counts['T/F'] += 1\n",
    "        elif n == 3:\n",
    "            if result[n] == val_target.iloc[index][n]:\n",
    "                dimension_counts['J/P'] += 1\n",
    "\n",
    "Accuracy = counter/len(val_dialogues)\n",
    "print(f\"Accuracy: {Accuracy*100:.4f}%\\n\")"
   ]
  },
  {
   "cell_type": "code",
   "execution_count": 8,
   "id": "952909a3",
   "metadata": {},
   "outputs": [
    {
     "name": "stdout",
     "output_type": "stream",
     "text": [
      "Accuracy: 0.44\n",
      "Precision: 0.38\n",
      "Recall: 0.44\n",
      "F1 Score: 0.40\n"
     ]
    },
    {
     "name": "stderr",
     "output_type": "stream",
     "text": [
      "C:\\Users\\JenMing\\anaconda3\\lib\\site-packages\\sklearn\\metrics\\_classification.py:1344: UndefinedMetricWarning: Precision is ill-defined and being set to 0.0 in labels with no predicted samples. Use `zero_division` parameter to control this behavior.\n",
      "  _warn_prf(average, modifier, msg_start, len(result))\n"
     ]
    }
   ],
   "source": [
    "from sklearn.metrics import accuracy_score, precision_score, recall_score, f1_score\n",
    "\n",
    "# 计算准确度\n",
    "accuracy = accuracy_score(val_target, pred_list)\n",
    "\n",
    "# 计算精确度\n",
    "precision = precision_score(val_target, pred_list, average='weighted')\n",
    "\n",
    "# 计算召回率\n",
    "recall = recall_score(val_target, pred_list, average='weighted')\n",
    "\n",
    "# 计算F1分数\n",
    "f1 = f1_score(val_target, pred_list, average='weighted')\n",
    "\n",
    "print(f\"Accuracy: {accuracy:.2f}\")\n",
    "print(f\"Precision: {precision:.2f}\")\n",
    "print(f\"Recall: {recall:.2f}\")\n",
    "print(f\"F1 Score: {f1:.2f}\")"
   ]
  },
  {
   "cell_type": "code",
   "execution_count": 9,
   "id": "17dc0e80",
   "metadata": {},
   "outputs": [
    {
     "name": "stdout",
     "output_type": "stream",
     "text": [
      "E.I: 691/868 \n",
      "Accuracy: 0.7960829493087558\n",
      "\n",
      "S.N: 759/868 \n",
      "Accuracy: 0.8744239631336406\n",
      "\n",
      "T.F: 699/868 \n",
      "Accuracy: 0.8052995391705069\n",
      "\n",
      "J.P: 601/868 \n",
      "Accuracy: 0.6923963133640553\n",
      "\n"
     ]
    }
   ],
   "source": [
    "EI_counts = dimension_counts['E/I']\n",
    "SN_counts = dimension_counts['S/N']\n",
    "TF_counts = dimension_counts['T/F']\n",
    "JP_counts = dimension_counts['J/P']\n",
    "print(f'E.I: {EI_counts}/{len(val_dialogues)} ')\n",
    "print('Accuracy: '+ str(EI_counts/len(val_dialogues))+'\\n')\n",
    "print(f'S.N: {SN_counts}/{len(val_dialogues)} ')\n",
    "print('Accuracy: '+ str(SN_counts/len(val_dialogues))+'\\n')\n",
    "print(f'T.F: {TF_counts}/{len(val_dialogues)} ')\n",
    "print('Accuracy: '+ str(TF_counts/len(val_dialogues))+'\\n')\n",
    "print(f'J.P: {JP_counts}/{len(val_dialogues)} ')\n",
    "print('Accuracy: '+ str(JP_counts/len(val_dialogues))+'\\n')"
   ]
  },
  {
   "cell_type": "code",
   "execution_count": 10,
   "id": "942eec51",
   "metadata": {},
   "outputs": [],
   "source": [
    "with open(\"C:/Users/JenMing/Desktop/MBTI/3ways_result/note.txt\", \"w\") as f:\n",
    "    f.write(f\"Accuracy: {Accuracy*100:.4f}%\\n\")\n",
    "    f.write(f'E.I: {EI_counts}/{len(val_dialogues)} ')\n",
    "    f.write('Accuracy: '+ str(EI_counts/len(val_dialogues))+'\\n')\n",
    "    f.write(f'S.N: {SN_counts}/{len(val_dialogues)} ')\n",
    "    f.write('Accuracy: '+ str(SN_counts/len(val_dialogues))+'\\n')\n",
    "    f.write(f'T.F: {TF_counts}/{len(val_dialogues)} ')\n",
    "    f.write('Accuracy: '+ str(TF_counts/len(val_dialogues))+'\\n')\n",
    "    f.write(f'J.P: {JP_counts}/{len(val_dialogues)} ')\n",
    "    f.write('Accuracy: '+ str(JP_counts/len(val_dialogues))+'\\n')\n",
    "    f.write(f\"Accuracy: {accuracy:.2f}\\n\")\n",
    "    f.write(f\"Precision: {precision:.2f}\\n\")\n",
    "    f.write(f\"Recall: {recall:.2f}\\n\")\n",
    "    f.write(f\"F1 Score: {f1:.2f}\\n\")"
   ]
  },
  {
   "cell_type": "code",
   "execution_count": null,
   "id": "64b84a58",
   "metadata": {},
   "outputs": [],
   "source": []
  }
 ],
 "metadata": {
  "kernelspec": {
   "display_name": "Python 3 (ipykernel)",
   "language": "python",
   "name": "python3"
  },
  "language_info": {
   "codemirror_mode": {
    "name": "ipython",
    "version": 3
   },
   "file_extension": ".py",
   "mimetype": "text/x-python",
   "name": "python",
   "nbconvert_exporter": "python",
   "pygments_lexer": "ipython3",
   "version": "3.10.9"
  }
 },
 "nbformat": 4,
 "nbformat_minor": 5
}
