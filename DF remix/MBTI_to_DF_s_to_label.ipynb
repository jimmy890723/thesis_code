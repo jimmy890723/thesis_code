{
 "cells": [
  {
   "cell_type": "code",
   "execution_count": 1,
   "id": "48787455",
   "metadata": {},
   "outputs": [],
   "source": [
    "import pandas as pd"
   ]
  },
  {
   "cell_type": "code",
   "execution_count": 2,
   "id": "04f69042",
   "metadata": {},
   "outputs": [],
   "source": [
    "import torch\n",
    "from transformers import BertTokenizer\n",
    "from transformers import BertConfig\n",
    "from transformers import BertForSequenceClassification"
   ]
  },
  {
   "cell_type": "code",
   "execution_count": 3,
   "id": "c71561c6",
   "metadata": {},
   "outputs": [
    {
     "name": "stdout",
     "output_type": "stream",
     "text": [
      "There are 1 GPU(s) available.\n",
      "We will use the GPU: NVIDIA GeForce RTX 2080 Ti\n"
     ]
    }
   ],
   "source": [
    "if torch.cuda.is_available():\n",
    "        device = torch.device(\"cuda\")    \n",
    "        print('There are %d GPU(s) available.' % torch.cuda.device_count())\n",
    "        print('We will use the GPU:', torch.cuda.get_device_name(0))\n",
    "else:\n",
    "    print('No GPU available, using the CPU instead.')\n",
    "    device = torch.device(\"cpu\")"
   ]
  },
  {
   "cell_type": "code",
   "execution_count": 4,
   "id": "3c427ed3",
   "metadata": {},
   "outputs": [],
   "source": [
    "label_dict = {  'INFJ': 0,\n",
    "                'ENTP': 1,\n",
    "                'INTP': 2,\n",
    "                'INTJ': 3,\n",
    "                'ENTJ': 4,\n",
    "                'ENFJ': 5,\n",
    "                'INFP': 6,\n",
    "                'ENFP': 7,\n",
    "                'ISFP': 8,\n",
    "                'ISTP': 9,\n",
    "                'ISFJ': 10,\n",
    "                'ISTJ': 11,\n",
    "                'ESTP': 12,\n",
    "                'ESFP': 13,\n",
    "                'ESTJ': 14,\n",
    "                'ESFJ': 15  }"
   ]
  },
  {
   "cell_type": "code",
   "execution_count": 5,
   "id": "ce3c9de7",
   "metadata": {},
   "outputs": [
    {
     "name": "stderr",
     "output_type": "stream",
     "text": [
      "Some weights of the model checkpoint at bert-base-uncased were not used when initializing BertForSequenceClassification: ['cls.seq_relationship.weight', 'cls.seq_relationship.bias', 'cls.predictions.decoder.weight', 'cls.predictions.transform.LayerNorm.bias', 'cls.predictions.bias', 'cls.predictions.transform.dense.weight', 'cls.predictions.transform.LayerNorm.weight', 'cls.predictions.transform.dense.bias']\n",
      "- This IS expected if you are initializing BertForSequenceClassification from the checkpoint of a model trained on another task or with another architecture (e.g. initializing a BertForSequenceClassification model from a BertForPreTraining model).\n",
      "- This IS NOT expected if you are initializing BertForSequenceClassification from the checkpoint of a model that you expect to be exactly identical (initializing a BertForSequenceClassification model from a BertForSequenceClassification model).\n",
      "Some weights of BertForSequenceClassification were not initialized from the model checkpoint at bert-base-uncased and are newly initialized: ['classifier.bias', 'classifier.weight']\n",
      "You should probably TRAIN this model on a down-stream task to be able to use it for predictions and inference.\n"
     ]
    },
    {
     "data": {
      "text/plain": [
       "<All keys matched successfully>"
      ]
     },
     "execution_count": 5,
     "metadata": {},
     "output_type": "execute_result"
    }
   ],
   "source": [
    "tokenizer = BertTokenizer.from_pretrained('bert-base-uncased', \n",
    "                                            do_lower_case=True)\n",
    "\n",
    "model = BertForSequenceClassification.from_pretrained(\"bert-base-uncased\",\n",
    "                                                        num_labels=len(label_dict),\n",
    "                                                        output_attentions=False,\n",
    "                                                        output_hidden_states=False)\n",
    "\n",
    "model.to(device)\n",
    "\n",
    "#opt_save_dic = \"C:/Users/JenMing/desktop/dc-bot/data_volume_0517_Nsoftmax_bert-base_batch_size =12/\"\n",
    "opt_save_dic = \"C:/Users/JenMing/jupyter_nb/data_volume_otos/\"\n",
    "\n",
    "#model.load_state_dict(torch.load(opt_save_dic+'finetuned_BERT_epoch_11.model', map_location=torch.device('cuda')),strict=False)\n",
    "model.load_state_dict(torch.load(opt_save_dic+'finetuned_BERT_epoch_8.model', map_location=torch.device('cuda')),strict=False)"
   ]
  },
  {
   "cell_type": "code",
   "execution_count": 6,
   "id": "a65ed2f7",
   "metadata": {},
   "outputs": [
    {
     "data": {
      "text/html": [
       "<div>\n",
       "<style scoped>\n",
       "    .dataframe tbody tr th:only-of-type {\n",
       "        vertical-align: middle;\n",
       "    }\n",
       "\n",
       "    .dataframe tbody tr th {\n",
       "        vertical-align: top;\n",
       "    }\n",
       "\n",
       "    .dataframe thead th {\n",
       "        text-align: right;\n",
       "    }\n",
       "</style>\n",
       "<table border=\"1\" class=\"dataframe\">\n",
       "  <thead>\n",
       "    <tr style=\"text-align: right;\">\n",
       "      <th></th>\n",
       "      <th>type</th>\n",
       "      <th>posts</th>\n",
       "    </tr>\n",
       "  </thead>\n",
       "  <tbody>\n",
       "    <tr>\n",
       "      <th>0</th>\n",
       "      <td>INFJ</td>\n",
       "      <td>What has been the most life-changing experienc...</td>\n",
       "    </tr>\n",
       "    <tr>\n",
       "      <th>1</th>\n",
       "      <td>ENTP</td>\n",
       "      <td>'I'm finding the lack of me in these posts ver...</td>\n",
       "    </tr>\n",
       "    <tr>\n",
       "      <th>2</th>\n",
       "      <td>INTP</td>\n",
       "      <td>Of course, to which I say I know; that's my bl...</td>\n",
       "    </tr>\n",
       "    <tr>\n",
       "      <th>3</th>\n",
       "      <td>INTJ</td>\n",
       "      <td>'Dear certain personality,   I enjoyed our con...</td>\n",
       "    </tr>\n",
       "    <tr>\n",
       "      <th>4</th>\n",
       "      <td>ENTJ</td>\n",
       "      <td>'You're fired.|||That's another silly misconce...</td>\n",
       "    </tr>\n",
       "  </tbody>\n",
       "</table>\n",
       "</div>"
      ],
      "text/plain": [
       "   type                                              posts\n",
       "0  INFJ  What has been the most life-changing experienc...\n",
       "1  ENTP  'I'm finding the lack of me in these posts ver...\n",
       "2  INTP  Of course, to which I say I know; that's my bl...\n",
       "3  INTJ  'Dear certain personality,   I enjoyed our con...\n",
       "4  ENTJ  'You're fired.|||That's another silly misconce..."
      ]
     },
     "execution_count": 6,
     "metadata": {},
     "output_type": "execute_result"
    }
   ],
   "source": [
    "df = pd.read_csv('C:/Users/JenMing/Desktop/MBTI/MBTI_test.csv')\n",
    "df.head()"
   ]
  },
  {
   "cell_type": "code",
   "execution_count": 7,
   "id": "30f47d9a",
   "metadata": {},
   "outputs": [
    {
     "data": {
      "text/html": [
       "<div>\n",
       "<style scoped>\n",
       "    .dataframe tbody tr th:only-of-type {\n",
       "        vertical-align: middle;\n",
       "    }\n",
       "\n",
       "    .dataframe tbody tr th {\n",
       "        vertical-align: top;\n",
       "    }\n",
       "\n",
       "    .dataframe thead th {\n",
       "        text-align: right;\n",
       "    }\n",
       "</style>\n",
       "<table border=\"1\" class=\"dataframe\">\n",
       "  <thead>\n",
       "    <tr style=\"text-align: right;\">\n",
       "      <th></th>\n",
       "      <th>type</th>\n",
       "      <th>posts</th>\n",
       "    </tr>\n",
       "  </thead>\n",
       "  <tbody>\n",
       "    <tr>\n",
       "      <th>0</th>\n",
       "      <td>INFJ</td>\n",
       "      <td>None</td>\n",
       "    </tr>\n",
       "    <tr>\n",
       "      <th>1</th>\n",
       "      <td>ENTP</td>\n",
       "      <td>None</td>\n",
       "    </tr>\n",
       "    <tr>\n",
       "      <th>2</th>\n",
       "      <td>INTP</td>\n",
       "      <td>None</td>\n",
       "    </tr>\n",
       "    <tr>\n",
       "      <th>3</th>\n",
       "      <td>INTJ</td>\n",
       "      <td>None</td>\n",
       "    </tr>\n",
       "    <tr>\n",
       "      <th>4</th>\n",
       "      <td>ENTJ</td>\n",
       "      <td>None</td>\n",
       "    </tr>\n",
       "  </tbody>\n",
       "</table>\n",
       "</div>"
      ],
      "text/plain": [
       "   type posts\n",
       "0  INFJ  None\n",
       "1  ENTP  None\n",
       "2  INTP  None\n",
       "3  INTJ  None\n",
       "4  ENTJ  None"
      ]
     },
     "execution_count": 7,
     "metadata": {},
     "output_type": "execute_result"
    }
   ],
   "source": [
    "df_new = df\n",
    "df_new['posts'] = None\n",
    "df = pd.read_csv('C:/Users/JenMing/Desktop/MBTI/MBTI_test.csv')\n",
    "df_new.head()"
   ]
  },
  {
   "cell_type": "code",
   "execution_count": 8,
   "id": "f7cc13bf",
   "metadata": {},
   "outputs": [],
   "source": [
    "for n in range(len(df)):\n",
    "    list_split = df['posts'][n].split(\"|||\")\n",
    "    \n",
    "    for m in range(len(list_split)):\n",
    "        sentence = list_split[m]\n",
    "        # 对句子进行分词和编码\n",
    "        encoded_inputs = tokenizer(sentence, padding=True, truncation=True, return_tensors=\"pt\")\n",
    "        input_ids = encoded_inputs[\"input_ids\"].to(device)\n",
    "        attention_mask = encoded_inputs[\"attention_mask\"].to(device)\n",
    "\n",
    "        # 将模型设置为评估模式\n",
    "        model.eval()\n",
    "\n",
    "        # 运行模型的前向传播\n",
    "        with torch.no_grad():\n",
    "            outputs = model(input_ids=input_ids, attention_mask=attention_mask)\n",
    "            \n",
    "        # 获取模型的预测结果\n",
    "        logits = outputs.logits\n",
    "        predicted_labels = torch.argmax(logits, dim=1)\n",
    "\n",
    "        reversed_label_dict = {v: k for k, v in label_dict.items()}\n",
    "\n",
    "        # 使用预测的标签索引查找相应的类型\n",
    "        predicted_type = reversed_label_dict[predicted_labels.item()]\n",
    "\n",
    "        #label_dict\n",
    "        # 打印预测结果\n",
    "        #print(\"Predicted type:\", predicted_type)\n",
    "        \n",
    "        if df_new['posts'][n] is None:\n",
    "            df_new['posts'][n] = []\n",
    "        \n",
    "        df_new['posts'][n].append(predicted_type)\n",
    "    \n",
    "\n",
    "        \n",
    "df_new.head()\n",
    "\n",
    "#df_new.to_csv(f\"C:/Users/JenMing/Desktop/MBTI/LSTM/mbti_to_LSTM_DF.csv\", index=False)\n",
    "df_new.to_csv(f\"C:/Users/JenMing/Desktop/MBTI/one_type_one_sentence/mbti_to_LSTM_DF.csv\", index=False)"
   ]
  },
  {
   "cell_type": "code",
   "execution_count": null,
   "id": "0beb0744",
   "metadata": {},
   "outputs": [],
   "source": []
  }
 ],
 "metadata": {
  "kernelspec": {
   "display_name": "Python 3 (ipykernel)",
   "language": "python",
   "name": "python3"
  },
  "language_info": {
   "codemirror_mode": {
    "name": "ipython",
    "version": 3
   },
   "file_extension": ".py",
   "mimetype": "text/x-python",
   "name": "python",
   "nbconvert_exporter": "python",
   "pygments_lexer": "ipython3",
   "version": "3.10.9"
  }
 },
 "nbformat": 4,
 "nbformat_minor": 5
}
